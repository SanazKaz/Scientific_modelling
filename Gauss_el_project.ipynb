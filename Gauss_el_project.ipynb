{
 "cells": [
  {
   "cell_type": "markdown",
   "metadata": {},
   "source": [
    "### Gaussian Elimination Tutorial \n"
   ]
  },
  {
   "cell_type": "markdown",
   "metadata": {},
   "source": [
    "<style>\n",
    "    .blue {\n",
    "        background-color: #0074D9;\n",
    "    }\n",
    "</style>\n",
    "\n",
    "<div class=\"blue\">\n",
    " In order to learn about the algorithm in the best way, we will follow an example story in the context of drug discovery (Story by Chatgpt!)\n",
    "</div>\n"
   ]
  },
  {
   "cell_type": "markdown",
   "metadata": {},
   "source": [
    "### Unraveling the Formula: A Computational Journey in Drug Discovery"
   ]
  },
  {
   "cell_type": "markdown",
   "metadata": {},
   "source": [
    "There are 4 potential compounds that show promise in treating a deadly disease named NEUROX. We  have to figure out the precise proportion of each excipient to create an effective and safe drug formula. Having too much or too little of each compound can cause problems with toxicty, poor efficacy and the list goes on!  \n",
    "\n",
    " \n",
    "\n",
    "\n"
   ]
  },
  {
   "cell_type": "markdown",
   "metadata": {},
   "source": [
    "not to worry, our scientists have conducted a series of experiments where they kept all but one excipient constant to see the effects of the change in efficacy and toxicity. \n"
   ]
  },
  {
   "cell_type": "markdown",
   "metadata": {},
   "source": [
    "<script src=\"https://polyfill.io/v3/polyfill.min.js?features=es6\"></script>\n",
    "<script id=\"MathJax-script\" async src=\"https://cdn.jsdelivr.net/npm/mathjax@3/es5/tex-mml-chtml.js\"></script>\n",
    "\n",
    "<p>The system of equations representing the experiments is given by:</p>\n",
    "\n",
    "\\[\n",
    "\\begin{align*}\n",
    "2C_1 + 3C_2 + 1.5C_3 + 0.5C_4 &= E_1 \\\\\n",
    "1C_1 + 2C_2 + 2.5C_3 + 1.5C_4 &= E_2 \\\\\n",
    "2.5C_1 + 1C_2 + 3C_3 + 2C_4 &= E_3 \\\\\n",
    "1.5C_1 + 2.5C_2 + 1C_3 + 3C_4  &= E_4 \\\\\n",
    "\\end{align*}\n",
    "\\]\n"
   ]
  },
  {
   "cell_type": "markdown",
   "metadata": {},
   "source": [
    "After some exploring, the team has realised it might be best solved computationally using **Gaussian Elimination**. Gaussian Elimination is a robust method for soliving systems of linear equations. The equations are systematically manipulated to reduce the system to a form that can be easily solved for the concentration of each excipient compound."
   ]
  },
  {
   "cell_type": "markdown",
   "metadata": {},
   "source": [
    "<script src=\"https://polyfill.io/v3/polyfill.min.js?features=es6\"></script>\n",
    "<script id=\"MathJax-script\" async src=\"https://cdn.jsdelivr.net/npm/mathjax@3/es5/tex-mml-chtml.js\"></script>\n",
    "\n",
    "Before we jump into code, let's have a look at how Gauss Elimination is carried out mathematically!\n",
    "* you have the following equations:\n",
    "\n",
    "\n",
    "\\[\n",
    "\\begin{align*}\n",
    "eqn 1 = 2x + y -z = 3 \\\\\n",
    "eqn 2 = x +y + 5z = 6 \\\\\n",
    "eqn3 = -x +3y -2z = 3 \\\\\n",
    "\\end{align*}\n",
    "\\]\n",
    "\n",
    "step 1: Elimination step - reduce the system of equations so that the unknown x is removed from the last 2 equations - how do we do this? We keep eqn 1 constant as it is in a good position for our *PIVOT*. In your pivot you want to avoid zeros and the largest number per column should be swapped for the pivot. \n",
    "\n",
    "Lets get rid of **X** - our pivot here is eqn1 (2x is larger than x and -x!)\n",
    "\n",
    "we will multiply eqn2 by a factor of 2 to give:\n",
    "\n",
    "\\[\n",
    "\\begin{align*}\n",
    "eqn 2  = 2x +2y + 10z = 6 \\\\\n",
    "\\end{align*}\n",
    "\\]\n",
    "\n",
    "and then take  eqn 2* from eqn 1 to give:\n",
    "\n",
    "\\[\n",
    "\\begin{align*}\n",
    "eqn 2  = eqn1 - 2(eqn2) \\\\\n",
    "eqn 2 = y -11z = -9\n",
    "\\end{align*}\n",
    "\\]\n",
    "\n",
    "we now do the same thing for equation 3 in the x column! this time we have to multiply by -2 in order to get a positive +2x in the column so that when we do the formula it wil zero! hence our factor is -2!\n",
    "\n",
    "\\[\n",
    "\\begin{align*}\n",
    "eqn3 = -x +3y -2z = 3 \\\\\n",
    "eqn3 = eqn1 - (-2)(eqn3) \\\\\n",
    "eqn3 = 7y -5 7 = 9\n",
    "\\end{align*}\n",
    "\\]\n"
   ]
  },
  {
   "cell_type": "markdown",
   "metadata": {},
   "source": [
    "<script src=\"https://polyfill.io/v3/polyfill.min.js?features=es6\"></script>\n",
    "<script id=\"MathJax-script\" async src=\"https://cdn.jsdelivr.net/npm/mathjax@3/es5/tex-mml-chtml.js\"></script>\n",
    "\n",
    "\n",
    "Take your new equations and the next step is to remove *Y*! Have a go at moving onto the *Y* column and picking a *PIVOT* (hint you shouldn't have zero numbers and every other *Y* has to be multiplied to match it)!\n",
    "\n",
    "the final resulting equations are:\n",
    "\n",
    "\\[\n",
    "\\begin{align*}\n",
    "eqn 1 = 2x + y -z = 3 \\\\\n",
    "eqn 2 =  y - 11z = -9 \\\\\n",
    "eqn3 = -72z = -72 \\\\\n",
    "\\end{align*}\n",
    "\\]\n",
    "\n",
    "Now you can find *Z* and solve the rest of the equations! This is now in what is said to be upper triangular, also known as **ROW echelon form** \n",
    "\n"
   ]
  },
  {
   "cell_type": "markdown",
   "metadata": {},
   "source": [
    "<script src=\"https://polyfill.io/v3/polyfill.min.js?features=es6\"></script>\n",
    "<script id=\"MathJax-script\" async src=\"https://cdn.jsdelivr.net/npm/mathjax@3/es5/tex-mml-chtml.js\"></script>\n",
    "\n",
    "**There are some rules in Gaussian Elimination**\n",
    "\n",
    "* As you saw, you must operate on the right hand side and left hand side at the same time. Whatever you apply to on side of your equation, has to happen on the other side too. For example multiplications.\n",
    "* The matrix has to square\n",
    "* Rows can be replaced with a sum/ combination of rows\n",
    "* work on one column at a time, choosing a pivot and eliminating all other non zero values below it.\n",
    "* switch rows to avoid zeros on the diagonal (pivoting)\n",
    "* if swapping rows does not work and there are sill zeros on the diagonal,  - this indicates a SINGULAR matrix (see https://study.com/learn/lesson/singular-matrix-properties-examples.html#:~:text=A%20singular%20matrix%20is%20a,does%20not%20have%20an%20inverse.)\n",
    "\n",
    "The computational cost of Gauss Elimination is O(n^3) - it is not efficient for large numbers of equations."
   ]
  },
  {
   "cell_type": "markdown",
   "metadata": {},
   "source": [
    "#### Back to our drug discovery problem!"
   ]
  },
  {
   "cell_type": "code",
   "execution_count": 228,
   "metadata": {},
   "outputs": [],
   "source": [
    "import numpy as np\n",
    "\n",
    "# we have turned our equations into matrices in the form A(x) = b\n",
    "# our square matrix is in the form 4x4\n",
    "\n",
    "A = np.array([[2, 3, 1.5, 0.5, 2],\n",
    "              [1, 2, 2.5, 1.5, 1],\n",
    "              [2.5, 1, 3, 2, 2.5],\n",
    "              [1.5, 7, 1, 3, 1.5],\n",
    "              [2, 1.5, 2, 1, 3]])\n",
    "\n",
    "b = np.array([10, -5, 7, -6, 3])  # Replace E1-E4 with actual experimental outcomes.\n"
   ]
  },
  {
   "cell_type": "code",
   "execution_count": 218,
   "metadata": {},
   "outputs": [],
   "source": [
    "import numpy as np\n",
    "import sys\n",
    "\n",
    "# this cell creates random matrices for use with the \n",
    "# functions for Gauss Elimination should you want to try\n",
    "\n",
    "def random_non_singular_A_matrix(n):\n",
    "    \"\"\"creates a random non singular matrix\n",
    "    while loop ensures condition number is below threshold\"\"\"\n",
    "    \n",
    "    if n == 0:  # Added check for n == 0 to address the case of creating an array with zero size.\n",
    "        print(\"You can't have a zero value, enter different value\")\n",
    "        return None, None  \n",
    "    A = np.random.rand(n, n)\n",
    "    while np.linalg.cond(A) > 1/ sys.float_info.epsilon:\n",
    "        A = np.random.rand(n,n)\n",
    "    return A\n",
    "\n",
    "\n",
    "def random_b_matrix(n):\n",
    "    R = np.random.rand(n, n)\n",
    "    A = np.zeros((n, n))\n",
    "    triu = np.triu_indices(n)\n",
    "    A[triu] = R[triu]\n",
    "    return A\n"
   ]
  },
  {
   "cell_type": "code",
   "execution_count": 285,
   "metadata": {},
   "outputs": [],
   "source": [
    "import numpy as np\n",
    "\n",
    "# step 1 - elimination with Gauss Elimination \n",
    "\n",
    "# During the first iteration (k = 0) of the outer loop, k, k would be 0, 0\n",
    "# This means that we are considering the pivot element in the first row and the first column\n",
    "# Subsequent iterations of the outer loop will update k to consider the pivot element in subsequent rows and columns\n",
    "\n",
    "\n",
    "def gaussian_elimation(a, b):\n",
    "    n = len(a) # setting the length of the matrix as n in our case '5'\n",
    "    for k in range (n-1):  # k is the index of pivot row (loop for start of row to end) (index 0,0)\n",
    "        for i in range(k+1, n): # row below pivot row (new row)\n",
    "            if a[i, k] == 0: continue  # if already zero, move onto next row\n",
    "            factor = a[k, k]/ a[i, k] # dividing current element by pivot to find the factor as before \n",
    "            for j in range(k, n): \n",
    "                a[i, j] = a[k, j] - a[i, j] * factor # finding value by multiplying factor and taking away as we did before!\n",
    "            b[i] = b[i] - factor * b[k] # b vector new value calculated as above\n",
    "            \n",
    "    return a, b\n",
    "\n",
    "# back substituing to solve the rest of the equations!\n",
    "\n",
    "def back_substitution(a, b):\n",
    "    n = len(b)\n",
    "    x = np.zeros(n, float) # empty array to store the values\n",
    "    x[n-1] = b[n-1] / a[n-1, n-1] # solving bottom up (hence index n-1)\n",
    "    for i in range(n-2, -1, -1): # loop, moving up by 1 each time\n",
    "        sum_ax = 0\n",
    "        for j in range (i+1, n):\n",
    "            sum_ax += a[i,j] * x[j]\n",
    "        x[i] = (b[i]- sum_ax) / a[i, i]\n",
    "\n",
    "    return (x)\n",
    "\n",
    "\n"
   ]
  },
  {
   "cell_type": "code",
   "execution_count": 286,
   "metadata": {},
   "outputs": [
    {
     "name": "stdout",
     "output_type": "stream",
     "text": [
      "These are your results: \n",
      "[-18.63075769  14.47696924   2.15750188   1.18870968]\n",
      "These are scipy's results: \n",
      "[ 9.50967742 -0.96129032 -2.90967742 -3.54193548]\n"
     ]
    },
    {
     "ename": "AssertionError",
     "evalue": "\nArrays are not almost equal to 7 decimals\n\nMismatched elements: 4 / 4 (100%)\nMax absolute difference: 28.14043511\nMax relative difference: 3.97964722\n x: array([ 9.5096774, -0.9612903, -2.9096774, -3.5419355])\n y: array([-18.6307577,  14.4769692,   2.1575019,   1.1887097])",
     "output_type": "error",
     "traceback": [
      "\u001b[0;31m---------------------------------------------------------------------------\u001b[0m",
      "\u001b[0;31mAssertionError\u001b[0m                            Traceback (most recent call last)",
      "Cell \u001b[0;32mIn[286], line 27\u001b[0m\n\u001b[1;32m     24\u001b[0m \u001b[38;5;28mprint\u001b[39m(\u001b[38;5;124mf\u001b[39m\u001b[38;5;124m\"\u001b[39m\u001b[38;5;124mThese are scipy\u001b[39m\u001b[38;5;124m'\u001b[39m\u001b[38;5;124ms results: \u001b[39m\u001b[38;5;130;01m\\n\u001b[39;00m\u001b[38;5;132;01m{\u001b[39;00mx_scipy\u001b[38;5;132;01m}\u001b[39;00m\u001b[38;5;124m\"\u001b[39m)\n\u001b[1;32m     26\u001b[0m \u001b[38;5;66;03m# Check if the results are almost equal (they are not!)\u001b[39;00m\n\u001b[0;32m---> 27\u001b[0m \u001b[43mnp\u001b[49m\u001b[38;5;241;43m.\u001b[39;49m\u001b[43mtesting\u001b[49m\u001b[38;5;241;43m.\u001b[39;49m\u001b[43massert_almost_equal\u001b[49m\u001b[43m(\u001b[49m\u001b[43mx_scipy\u001b[49m\u001b[43m,\u001b[49m\u001b[43m \u001b[49m\u001b[43mx\u001b[49m\u001b[43m)\u001b[49m\n",
      "File \u001b[0;32m~/anaconda3/envs/data_science_class/lib/python3.11/contextlib.py:81\u001b[0m, in \u001b[0;36mContextDecorator.__call__.<locals>.inner\u001b[0;34m(*args, **kwds)\u001b[0m\n\u001b[1;32m     78\u001b[0m \u001b[38;5;129m@wraps\u001b[39m(func)\n\u001b[1;32m     79\u001b[0m \u001b[38;5;28;01mdef\u001b[39;00m \u001b[38;5;21minner\u001b[39m(\u001b[38;5;241m*\u001b[39margs, \u001b[38;5;241m*\u001b[39m\u001b[38;5;241m*\u001b[39mkwds):\n\u001b[1;32m     80\u001b[0m     \u001b[38;5;28;01mwith\u001b[39;00m \u001b[38;5;28mself\u001b[39m\u001b[38;5;241m.\u001b[39m_recreate_cm():\n\u001b[0;32m---> 81\u001b[0m         \u001b[38;5;28;01mreturn\u001b[39;00m \u001b[43mfunc\u001b[49m\u001b[43m(\u001b[49m\u001b[38;5;241;43m*\u001b[39;49m\u001b[43margs\u001b[49m\u001b[43m,\u001b[49m\u001b[43m \u001b[49m\u001b[38;5;241;43m*\u001b[39;49m\u001b[38;5;241;43m*\u001b[39;49m\u001b[43mkwds\u001b[49m\u001b[43m)\u001b[49m\n",
      "    \u001b[0;31m[... skipping hidden 1 frame]\u001b[0m\n",
      "File \u001b[0;32m~/anaconda3/envs/data_science_class/lib/python3.11/contextlib.py:81\u001b[0m, in \u001b[0;36mContextDecorator.__call__.<locals>.inner\u001b[0;34m(*args, **kwds)\u001b[0m\n\u001b[1;32m     78\u001b[0m \u001b[38;5;129m@wraps\u001b[39m(func)\n\u001b[1;32m     79\u001b[0m \u001b[38;5;28;01mdef\u001b[39;00m \u001b[38;5;21minner\u001b[39m(\u001b[38;5;241m*\u001b[39margs, \u001b[38;5;241m*\u001b[39m\u001b[38;5;241m*\u001b[39mkwds):\n\u001b[1;32m     80\u001b[0m     \u001b[38;5;28;01mwith\u001b[39;00m \u001b[38;5;28mself\u001b[39m\u001b[38;5;241m.\u001b[39m_recreate_cm():\n\u001b[0;32m---> 81\u001b[0m         \u001b[38;5;28;01mreturn\u001b[39;00m \u001b[43mfunc\u001b[49m\u001b[43m(\u001b[49m\u001b[38;5;241;43m*\u001b[39;49m\u001b[43margs\u001b[49m\u001b[43m,\u001b[49m\u001b[43m \u001b[49m\u001b[38;5;241;43m*\u001b[39;49m\u001b[38;5;241;43m*\u001b[39;49m\u001b[43mkwds\u001b[49m\u001b[43m)\u001b[49m\n",
      "    \u001b[0;31m[... skipping hidden 1 frame]\u001b[0m\n",
      "File \u001b[0;32m~/anaconda3/envs/data_science_class/lib/python3.11/contextlib.py:81\u001b[0m, in \u001b[0;36mContextDecorator.__call__.<locals>.inner\u001b[0;34m(*args, **kwds)\u001b[0m\n\u001b[1;32m     78\u001b[0m \u001b[38;5;129m@wraps\u001b[39m(func)\n\u001b[1;32m     79\u001b[0m \u001b[38;5;28;01mdef\u001b[39;00m \u001b[38;5;21minner\u001b[39m(\u001b[38;5;241m*\u001b[39margs, \u001b[38;5;241m*\u001b[39m\u001b[38;5;241m*\u001b[39mkwds):\n\u001b[1;32m     80\u001b[0m     \u001b[38;5;28;01mwith\u001b[39;00m \u001b[38;5;28mself\u001b[39m\u001b[38;5;241m.\u001b[39m_recreate_cm():\n\u001b[0;32m---> 81\u001b[0m         \u001b[38;5;28;01mreturn\u001b[39;00m \u001b[43mfunc\u001b[49m\u001b[43m(\u001b[49m\u001b[38;5;241;43m*\u001b[39;49m\u001b[43margs\u001b[49m\u001b[43m,\u001b[49m\u001b[43m \u001b[49m\u001b[38;5;241;43m*\u001b[39;49m\u001b[38;5;241;43m*\u001b[39;49m\u001b[43mkwds\u001b[49m\u001b[43m)\u001b[49m\n",
      "File \u001b[0;32m~/anaconda3/envs/data_science_class/lib/python3.11/site-packages/numpy/testing/_private/utils.py:797\u001b[0m, in \u001b[0;36massert_array_compare\u001b[0;34m(comparison, x, y, err_msg, verbose, header, precision, equal_nan, equal_inf, strict)\u001b[0m\n\u001b[1;32m    793\u001b[0m         err_msg \u001b[38;5;241m+\u001b[39m\u001b[38;5;241m=\u001b[39m \u001b[38;5;124m'\u001b[39m\u001b[38;5;130;01m\\n\u001b[39;00m\u001b[38;5;124m'\u001b[39m \u001b[38;5;241m+\u001b[39m \u001b[38;5;124m'\u001b[39m\u001b[38;5;130;01m\\n\u001b[39;00m\u001b[38;5;124m'\u001b[39m\u001b[38;5;241m.\u001b[39mjoin(remarks)\n\u001b[1;32m    794\u001b[0m         msg \u001b[38;5;241m=\u001b[39m build_err_msg([ox, oy], err_msg,\n\u001b[1;32m    795\u001b[0m                             verbose\u001b[38;5;241m=\u001b[39mverbose, header\u001b[38;5;241m=\u001b[39mheader,\n\u001b[1;32m    796\u001b[0m                             names\u001b[38;5;241m=\u001b[39m(\u001b[38;5;124m'\u001b[39m\u001b[38;5;124mx\u001b[39m\u001b[38;5;124m'\u001b[39m, \u001b[38;5;124m'\u001b[39m\u001b[38;5;124my\u001b[39m\u001b[38;5;124m'\u001b[39m), precision\u001b[38;5;241m=\u001b[39mprecision)\n\u001b[0;32m--> 797\u001b[0m         \u001b[38;5;28;01mraise\u001b[39;00m \u001b[38;5;167;01mAssertionError\u001b[39;00m(msg)\n\u001b[1;32m    798\u001b[0m \u001b[38;5;28;01mexcept\u001b[39;00m \u001b[38;5;167;01mValueError\u001b[39;00m:\n\u001b[1;32m    799\u001b[0m     \u001b[38;5;28;01mimport\u001b[39;00m \u001b[38;5;21;01mtraceback\u001b[39;00m\n",
      "\u001b[0;31mAssertionError\u001b[0m: \nArrays are not almost equal to 7 decimals\n\nMismatched elements: 4 / 4 (100%)\nMax absolute difference: 28.14043511\nMax relative difference: 3.97964722\n x: array([ 9.5096774, -0.9612903, -2.9096774, -3.5419355])\n y: array([-18.6307577,  14.4769692,   2.1575019,   1.1887097])"
     ]
    }
   ],
   "source": [
    "import numpy as np\n",
    "import scipy.linalg\n",
    "\n",
    "\n",
    "# Original matrices\n",
    "A = np.array([[2, 3, 1.5, 0.5],\n",
    "              [1, 2, 2.5, 1.5],\n",
    "              [2.5, 1, 3, 2],\n",
    "              [1.5, 7, 1, 3]])\n",
    "b = np.array([10, -5, 7, -6])\n",
    "\n",
    "# Make copies of A and b for implementation\n",
    "A_copy = np.copy(A)\n",
    "b_copy = np.copy(b)\n",
    "\n",
    "# Use the copies for your Gaussian elimination and back substitution\n",
    "A_mod, b_mod = gaussian_elimation(A_copy, b_copy)\n",
    "x = back_substitution(A_mod, b_mod)\n",
    "\n",
    "# Use the original A and b for scipy's solve function\n",
    "x_scipy = scipy.linalg.solve(A, b)\n",
    "\n",
    "print(f\"These are your results: \\n{x}\")\n",
    "print(f\"These are scipy's results: \\n{x_scipy}\")\n",
    "\n",
    "# Check if the results are almost equal (they are not!)\n",
    "np.testing.assert_almost_equal(x_scipy, x)\n"
   ]
  },
  {
   "cell_type": "markdown",
   "metadata": {},
   "source": [
    "### There is a problem with this code!\n",
    "### it is unable to swap rows and so therefore cannot pick the best pivot and hence we might receive the wrong answer for some matrices. Let's add the ability to do partial pivoting where neccessary!\n",
    "\n",
    "it is called partial because the columns do not change, only the rows.\n",
    "\n",
    "Without row swapping (partial pivoting), the algorithm may encounter situations where division by zero occurs or where numerical inaccuracies lead to incorrect results, particularly when dealing with ill-conditioned matrices or matrices with very small or very large elements\n"
   ]
  },
  {
   "cell_type": "code",
   "execution_count": 287,
   "metadata": {},
   "outputs": [],
   "source": [
    "import numpy as np\n",
    "\n",
    "# step 1 - elimination this time with partial pivotting \n",
    "\n",
    "def gaussian_elimation_pivot(a, b):\n",
    "    n = len(a)  \n",
    "    k = 0 # pivot row\n",
    "\n",
    "    for k in range(n-1):\n",
    "        # Partial pivoting (finding the largest number in the column)\n",
    "        max_index = np.argmax(np.abs(a[k:n, k])) + k\n",
    "        # Swap rows in 'a'\n",
    "        a[[k, max_index], :] = a[[max_index, k], :]\n",
    "        # Swap elements in 'b'\n",
    "        b[[k, max_index]] = b[[max_index, k]]\n",
    "\n",
    "        # now you have a rearranged matrix!\n",
    "\n",
    "        for i in range(k+1, n):\n",
    "            factor = a[i, k] / a[k, k]\n",
    "            for j in range(k, n):  # Iterate over columns from k to the end\n",
    "                # Update the elements in row 'i' based on the factor\n",
    "                a[i, j] = a[i, j] - factor * a[k, j]\n",
    "            b[i] = b[i] - factor * b[k]       \n",
    "    \n",
    "    return a, b\n",
    "\n",
    "def back_substitution_pivot(a, b):\n",
    "    n = len(b)\n",
    "    x = np.zeros(n, float)\n",
    "    x[n-1] = b[n-1] / a[n-1, n-1]\n",
    "    for i in range(n-2, -1, -1):\n",
    "        sum_ax = 0\n",
    "        for j in range (i+1, n):\n",
    "            sum_ax += a[i,j] * x[j]\n",
    "        x[i] = (b[i]- sum_ax) / a[i, i]\n",
    "\n",
    "    return (x)\n",
    "\n",
    "\n"
   ]
  },
  {
   "cell_type": "code",
   "execution_count": 288,
   "metadata": {},
   "outputs": [
    {
     "name": "stdout",
     "output_type": "stream",
     "text": [
      "These are your results: \n",
      "[ 8.2422043  -0.96034946 -2.15053763 -3.09677419]\n",
      "These are scipy's results: \n",
      "[ 9.50967742 -0.96129032 -2.90967742 -3.54193548]\n"
     ]
    }
   ],
   "source": [
    "import numpy as np\n",
    "import scipy.linalg\n",
    "\n",
    "# Make sure to define your gaussian_elimation and back_substitution functions correctly.\n",
    "\n",
    "# Original matrices\n",
    "A = np.array([[2, 3, 1.5, 0.5],\n",
    "              [1, 2, 2.5, 1.5],\n",
    "              [2.5, 1, 3, 2],\n",
    "              [1.5, 7, 1, 3]])\n",
    "b = np.array([10, -5, 7, -6])\n",
    "\n",
    "# Make copies of A and b for your implementation\n",
    "A_copy = np.copy(A)\n",
    "b_copy = np.copy(b)\n",
    "\n",
    "# Use the copies for your Gaussian elimination and back substitution\n",
    "A_mod, b_mod = gaussian_elimation_pivot(A_copy, b_copy)\n",
    "x = back_substitution_pivot(A_mod, b_mod)\n",
    "\n",
    "# Use the original A and b for scipy's solve function\n",
    "x_scipy = scipy.linalg.solve(A, b)\n",
    "\n",
    "print(f\"These are your results: \\n{x}\")\n",
    "print(f\"These are scipy's results: \\n{x_scipy}\")\n",
    "\n",
    "# Check if the results are almost equal\n",
    "np.testing.assert_almost_equal(x_scipy, x)\n",
    "\n"
   ]
  },
  {
   "cell_type": "markdown",
   "metadata": {},
   "source": [
    "There is still a difference between some of our answers versus that of scipy - why might this be?\n",
    "\n",
    "It could be due to the **condition** number of our matrix. The conditon number of a matrix is a measure of how close a matrix is to being singular - a small change results in zeros in the pivot positions. Even if not exactly zero, a pivot value close to zero can lead to large differences in the final result. This is when a matrix can be called nearly singular or ill conditioned. We can calculate the condition of a matrix using numpy. \n",
    "\n",
    "lets calculate it for our matrix."
   ]
  },
  {
   "cell_type": "code",
   "execution_count": 290,
   "metadata": {},
   "outputs": [
    {
     "name": "stdout",
     "output_type": "stream",
     "text": [
      "Condition number of A: 12.177123238741279\n"
     ]
    }
   ],
   "source": [
    "import numpy as np\n",
    "\n",
    "A = np.array([[2, 3, 1.5, 0.5],\n",
    "              [1, 2, 2.5, 1.5],\n",
    "              [2.5, 1, 3, 2],\n",
    "              [1.5, 7, 1, 3]])\n",
    "\n",
    "cond_number = np.linalg.cond(A)\n",
    "print(\"Condition number of A:\", cond_number)"
   ]
  },
  {
   "cell_type": "markdown",
   "metadata": {},
   "source": [
    "# Let's try some other matrices. \n",
    "## Generating a random nxn matrix with for our function\n",
    "### we will create matrices with better condition numbers than 12. If the conditon number is more than 1, it is rejected until a matrix with a condition <1 is found!"
   ]
  },
  {
   "cell_type": "code",
   "execution_count": 291,
   "metadata": {},
   "outputs": [],
   "source": [
    "def random_non_singular_matrix(n):\n",
    "    A = np.random.rand(n, n)\n",
    "    while np.linalg.cond(A) > 1/sys.float_info.epsilon:\n",
    "        A = np.random.rand(n, n)\n",
    "    return A"
   ]
  },
  {
   "cell_type": "code",
   "execution_count": 292,
   "metadata": {},
   "outputs": [],
   "source": [
    "As =[np.array([[1, 0, 0], [0, 1, 0], [0, 0, 1]]),\n",
    "    random_non_singular_matrix(3),\n",
    "    random_non_singular_matrix(4),\n",
    "    random_non_singular_matrix(5),\n",
    "    random_non_singular_matrix(6)\n",
    "]"
   ]
  },
  {
   "cell_type": "code",
   "execution_count": 293,
   "metadata": {},
   "outputs": [],
   "source": [
    "bs = [\n",
    "    np.array([1, 2, 3]),\n",
    "    np.random.rand(3),\n",
    "    np.random.rand(4),\n",
    "    np.random.rand(5),\n",
    "    np.random.rand(6),\n",
    "]"
   ]
  },
  {
   "cell_type": "code",
   "execution_count": 294,
   "metadata": {},
   "outputs": [
    {
     "name": "stdout",
     "output_type": "stream",
     "text": [
      "this is mine \n",
      " [1. 2. 3.]\n",
      "this is scipy  \n",
      " [1. 2. 3.]\n",
      "this is mine \n",
      " [-0.27493958  1.12491077  1.05514902]\n",
      "this is scipy  \n",
      " [-0.27493958  1.12491077  1.05514902]\n",
      "this is mine \n",
      " [-1.08330752 -0.22087329  2.42231592  1.29333119]\n",
      "this is scipy  \n",
      " [-1.08330752 -0.22087329  2.42231592  1.29333119]\n",
      "this is mine \n",
      " [ 0.34656994  2.07416929 -0.19929566 -1.19434694 -0.43690885]\n",
      "this is scipy  \n",
      " [ 0.34656994  2.07416929 -0.19929566 -1.19434694 -0.43690885]\n",
      "this is mine \n",
      " [ 1.50519771 -1.18334257  1.50624964 -0.57975219 -0.97698062  0.76911736]\n",
      "this is scipy  \n",
      " [ 1.50519771 -1.18334257  1.50624964 -0.57975219 -0.97698062  0.76911736]\n"
     ]
    }
   ],
   "source": [
    "import numpy as np\n",
    "import scipy.linalg\n",
    "\n",
    "for A, b in zip(As, bs):\n",
    "    # Make copies of A and b to avoid modifying the originals if necessary\n",
    "    A_copy = np.copy(A)\n",
    "    b_copy = np.copy(b)\n",
    "\n",
    "    A_mod, b_mod = gaussian_elimation_pivot(A_copy, b_copy)\n",
    "    x_mine = back_substitution_pivot(A_mod, b_mod)\n",
    "    print(f\"this is mine \\n {x_mine}\")\n",
    "\n",
    "    x_scipy = scipy.linalg.solve(A, b)  # Use the original A and b here\n",
    "    print(f\"this is scipy  \\n {x_scipy}\")\n",
    "\n",
    "    # Assert that the solutions are almost equal for each pair\n",
    "    np.testing.assert_almost_equal(x_scipy, x_mine)\n"
   ]
  },
  {
   "cell_type": "markdown",
   "metadata": {},
   "source": [
    "I hope this was helpful in your learning of Gauss Elimination. There are of course more efficient algorithms, but it is a great starting point to learn about linear algebra and the associated algorithms"
   ]
  }
 ],
 "metadata": {
  "kernelspec": {
   "display_name": "data_science_class",
   "language": "python",
   "name": "python3"
  },
  "language_info": {
   "codemirror_mode": {
    "name": "ipython",
    "version": 3
   },
   "file_extension": ".py",
   "mimetype": "text/x-python",
   "name": "python",
   "nbconvert_exporter": "python",
   "pygments_lexer": "ipython3",
   "version": "3.11.7"
  }
 },
 "nbformat": 4,
 "nbformat_minor": 2
}
